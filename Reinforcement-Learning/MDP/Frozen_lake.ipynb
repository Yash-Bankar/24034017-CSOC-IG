{
 "cells": [
  {
   "cell_type": "markdown",
   "id": "0c04d37f-36a2-4832-b8a2-23ac569b9262",
   "metadata": {},
   "source": [
    "# Dynamic Programming on FrozenLake Environments\n",
    "\n",
    "We will:\n",
    "1. Load three environments:\n",
    "   - **FrozenLake-v1** (default 4×4)\n",
    "   - **FrozenLake-Custom-v0** (custom 4×4)\n",
    "   - **FrozenLake-Expanded-v0** (custom 6×6)\n",
    "2. Use **Value Iteration** to compute the optimal policy in each.\n",
    "3. Evaluate performance:\n",
    "   - Convergence iterations & wall-clock time\n",
    "   - Average episode reward\n",
    "   - Average episode length\n",
    "   - Variance of the final value function\n",
    "4. Compare metrics side-by-side.\n"
   ]
  },
  {
   "cell_type": "code",
   "execution_count": 26,
   "id": "1ecc731c-214b-4d48-a23b-cc03ee989634",
   "metadata": {},
   "outputs": [],
   "source": [
    "import gymnasium as gym\n",
    "import numpy as np\n",
    "import time\n",
    "import pandas as pd\n",
    "import matplotlib.pyplot as plt\n",
    "from gymnasium.envs.registration import register"
   ]
  },
  {
   "cell_type": "code",
   "execution_count": 28,
   "id": "ad939e49-2773-4215-b6a6-b25d9d1866cc",
   "metadata": {},
   "outputs": [
    {
     "name": "stderr",
     "output_type": "stream",
     "text": [
      "C:\\Users\\byash\\anaconda3\\Lib\\site-packages\\gymnasium\\envs\\registration.py:644: UserWarning: \u001b[33mWARN: Overriding environment FrozenLake-Custom-v0 already in registry.\u001b[0m\n",
      "  logger.warn(f\"Overriding environment {new_spec.id} already in registry.\")\n",
      "C:\\Users\\byash\\anaconda3\\Lib\\site-packages\\gymnasium\\envs\\registration.py:644: UserWarning: \u001b[33mWARN: Overriding environment FrozenLake-Expanded-v0 already in registry.\u001b[0m\n",
      "  logger.warn(f\"Overriding environment {new_spec.id} already in registry.\")\n"
     ]
    }
   ],
   "source": [
    "# custom 4x4 map\n",
    "map_custom = [\n",
    "    \"SFFF\",\n",
    "    \"FHFF\",\n",
    "    \"FFHF\",\n",
    "    \"HFFG\"\n",
    "]\n",
    "register(\n",
    "    id=\"FrozenLake-Custom-v0\",\n",
    "    entry_point=\"gymnasium.envs.toy_text:FrozenLakeEnv\",\n",
    "    kwargs={\"desc\": map_custom, \"is_slippery\": False},\n",
    "    max_episode_steps=100\n",
    ")\n",
    "\n",
    "# expanded 6x6 map\n",
    "map_expanded = [\n",
    "    \"SFFFFF\",\n",
    "    \"FHFHFF\",\n",
    "    \"FFFHFF\",\n",
    "    \"FHHFFF\",\n",
    "    \"FFHFFF\",\n",
    "    \"HFFFHG\"\n",
    "]\n",
    "register(\n",
    "    id=\"FrozenLake-Expanded-v0\",\n",
    "    entry_point=\"gymnasium.envs.toy_text:FrozenLakeEnv\",\n",
    "    kwargs={\"desc\": map_expanded, \"is_slippery\": False},\n",
    "    max_episode_steps=200\n",
    ")"
   ]
  },
  {
   "cell_type": "markdown",
   "id": "d7f653c6-ef41-479f-933e-24445c142ae0",
   "metadata": {},
   "source": [
    "## value iteration"
   ]
  },
  {
   "cell_type": "code",
   "execution_count": 30,
   "id": "44cd6b53-1532-4cb2-8128-ead8dc8a4388",
   "metadata": {},
   "outputs": [],
   "source": [
    "def value_iteration(env, gamma=0.99, theta=1e-8):\n",
    "    raw = env.unwrapped\n",
    "    nS, nA = raw.observation_space.n, raw.action_space.n\n",
    "    V = np.zeros(nS)\n",
    "    iters = 0\n",
    "\n",
    "    while True:\n",
    "        delta = 0\n",
    "        for s in range(nS):\n",
    "            q_sa = np.zeros(nA)\n",
    "            for a in range(nA):\n",
    "                for p, s_next, r, _ in raw.P[s][a]:\n",
    "                    q_sa[a] += p * (r + gamma * V[s_next])\n",
    "            v_new = q_sa.max()\n",
    "            delta = max(delta, abs(V[s] - v_new))\n",
    "            V[s] = v_new\n",
    "        iters += 1\n",
    "        if delta < theta:\n",
    "            break\n",
    "\n",
    "    policy = np.zeros(nS, dtype=int)\n",
    "    for s in range(nS):\n",
    "        q_sa = [\n",
    "            sum(p * (r + gamma * V[s2]) for p, s2, r, _ in raw.P[s][a])\n",
    "            for a in range(nA)\n",
    "        ]\n",
    "        policy[s] = int(np.argmax(q_sa))\n",
    "\n",
    "    return policy, V, iters"
   ]
  },
  {
   "cell_type": "markdown",
   "id": "5b77deb7-43c0-4b1d-a89f-fa570e6ccbbd",
   "metadata": {},
   "source": [
    "## evaluation function"
   ]
  },
  {
   "cell_type": "code",
   "execution_count": 31,
   "id": "eb0b6bc2-176d-4842-aaa2-f1564f52cb52",
   "metadata": {},
   "outputs": [],
   "source": [
    "def evaluate_policy(env, policy, episodes=1000):\n",
    "\n",
    "    rewards, lengths = [], []\n",
    "    for _ in range(episodes):\n",
    "        s, _ = env.reset()\n",
    "        done = False\n",
    "        total_r, steps = 0, 0\n",
    "        while not done:\n",
    "            s, r, term, trunc, _ = env.step(policy[s])\n",
    "            total_r += r\n",
    "            steps += 1\n",
    "            done = term or trunc\n",
    "        rewards.append(total_r)\n",
    "        lengths.append(steps)\n",
    "    return np.mean(rewards), np.mean(lengths)\n"
   ]
  },
  {
   "cell_type": "code",
   "execution_count": 32,
   "id": "6a4e0ffd-592c-4691-8fde-c73de64ca425",
   "metadata": {},
   "outputs": [
    {
     "data": {
      "text/html": [
       "<div>\n",
       "<style scoped>\n",
       "    .dataframe tbody tr th:only-of-type {\n",
       "        vertical-align: middle;\n",
       "    }\n",
       "\n",
       "    .dataframe tbody tr th {\n",
       "        vertical-align: top;\n",
       "    }\n",
       "\n",
       "    .dataframe thead th {\n",
       "        text-align: right;\n",
       "    }\n",
       "</style>\n",
       "<table border=\"1\" class=\"dataframe\">\n",
       "  <thead>\n",
       "    <tr style=\"text-align: right;\">\n",
       "      <th></th>\n",
       "      <th>Iterations</th>\n",
       "      <th>Time_s</th>\n",
       "      <th>Avg_Reward</th>\n",
       "      <th>Avg_Episode_Length</th>\n",
       "      <th>Value_Variance</th>\n",
       "    </tr>\n",
       "    <tr>\n",
       "      <th>Environment</th>\n",
       "      <th></th>\n",
       "      <th></th>\n",
       "      <th></th>\n",
       "      <th></th>\n",
       "      <th></th>\n",
       "    </tr>\n",
       "  </thead>\n",
       "  <tbody>\n",
       "    <tr>\n",
       "      <th>FrozenLake-v1</th>\n",
       "      <td>324</td>\n",
       "      <td>0.0382</td>\n",
       "      <td>0.767</td>\n",
       "      <td>42.94</td>\n",
       "      <td>0.08362</td>\n",
       "    </tr>\n",
       "    <tr>\n",
       "      <th>FrozenLake-Custom-v0</th>\n",
       "      <td>7</td>\n",
       "      <td>0.0010</td>\n",
       "      <td>1.000</td>\n",
       "      <td>6.00</td>\n",
       "      <td>0.17942</td>\n",
       "    </tr>\n",
       "    <tr>\n",
       "      <th>FrozenLake-Expanded-v0</th>\n",
       "      <td>11</td>\n",
       "      <td>0.0010</td>\n",
       "      <td>1.000</td>\n",
       "      <td>10.00</td>\n",
       "      <td>0.16982</td>\n",
       "    </tr>\n",
       "  </tbody>\n",
       "</table>\n",
       "</div>"
      ],
      "text/plain": [
       "                        Iterations  Time_s  Avg_Reward  Avg_Episode_Length  \\\n",
       "Environment                                                                  \n",
       "FrozenLake-v1                  324  0.0382       0.767               42.94   \n",
       "FrozenLake-Custom-v0             7  0.0010       1.000                6.00   \n",
       "FrozenLake-Expanded-v0          11  0.0010       1.000               10.00   \n",
       "\n",
       "                        Value_Variance  \n",
       "Environment                             \n",
       "FrozenLake-v1                  0.08362  \n",
       "FrozenLake-Custom-v0           0.17942  \n",
       "FrozenLake-Expanded-v0         0.16982  "
      ]
     },
     "execution_count": 32,
     "metadata": {},
     "output_type": "execute_result"
    }
   ],
   "source": [
    "env_ids = [\"FrozenLake-v1\", \"FrozenLake-Custom-v0\", \"FrozenLake-Expanded-v0\"]\n",
    "records = []\n",
    "\n",
    "for env_id in env_ids:\n",
    "    env = gym.make(env_id, render_mode=None)\n",
    "    start = time.time()\n",
    "    pi, V, iters = value_iteration(env)\n",
    "    elapsed = time.time() - start\n",
    "\n",
    "    avg_r, avg_len = evaluate_policy(env, pi, episodes=1000)\n",
    "    records.append({\n",
    "        \"Environment\": env_id,\n",
    "        \"Iterations\": iters,\n",
    "        \"Time_s\": round(elapsed, 4),\n",
    "        \"Avg_Reward\": round(avg_r, 3),\n",
    "        \"Avg_Episode_Length\": round(avg_len, 2),\n",
    "        \"Value_Variance\": round(np.var(V), 5)\n",
    "    })\n",
    "\n",
    "df = pd.DataFrame(records).set_index(\"Environment\")\n",
    "df\n"
   ]
  },
  {
   "cell_type": "code",
   "execution_count": 33,
   "id": "fae080be-ff70-4950-85c8-7860a7b2dece",
   "metadata": {},
   "outputs": [
    {
     "data": {
      "image/png": "[encoded data removed]",
      "text/plain": [
       "<Figure size 1500x400 with 3 Axes>"
      ]
     },
     "metadata": {},
     "output_type": "display_data"
    }
   ],
   "source": [
    "metrics = [\"Iterations\", \"Avg_Reward\", \"Avg_Episode_Length\"]\n",
    "fig, axes = plt.subplots(1, 3, figsize=(15,4))\n",
    "\n",
    "for ax, m in zip(axes, metrics):\n",
    "    df[m].plot(kind=\"bar\", ax=ax, title=m, legend=False)\n",
    "    ax.set_ylabel(m)\n",
    "\n",
    "plt.tight_layout()\n",
    "plt.show()"
   ]
  },
  {
   "cell_type": "markdown",
   "id": "5a48a369-4923-4cec-8a9a-3b82e40419e9",
   "metadata": {},
   "source": [
    "## 📝 Discussion\n",
    "\n",
    "- **Convergence (Iterations & Time):**  \n",
    "  - The **custom 4×4** (no holes) converged extremely quickly.  \n",
    "  - The **default** needed many more iterations due to slippery stochastic transitions.  \n",
    "  - The **6×6 expanded** took the longest because of the larger state space.\n",
    "\n",
    "- **Effectiveness (Avg Reward & Episode Length):**  \n",
    "  - Custom 4×4 achieved **perfect reward** in fewer steps.  \n",
    "  - Default and expanded policies occasionally fall into holes, reducing avg reward.  \n",
    "  - Average episode length scales roughly with grid size.\n",
    "\n",
    "- **Value Function Variance:**  \n",
    "  - Higher variance in larger or more stochastic maps reflects greater uncertainty in state values.\n",
    "\n",
    "> **Conclusion:** Environment topology and size directly influence DP convergence and policy quality. Value Iteration remains a reliable baseline for small‐to‐medium MDPs with known models.\n"
   ]
  },
  {
   "cell_type": "code",
   "execution_count": null,
   "id": "13ad6cda-52ff-4f17-a393-bc0805df2cbe",
   "metadata": {},
   "outputs": [],
   "source": []
  }
 ],
 "metadata": {
  "kernelspec": {
   "display_name": "Python [conda env:base] *",
   "language": "python",
   "name": "conda-base-py"
  },
  "language_info": {
   "codemirror_mode": {
    "name": "ipython",
    "version": 3
   },
   "file_extension": ".py",
   "mimetype": "text/x-python",
   "name": "python",
   "nbconvert_exporter": "python",
   "pygments_lexer": "ipython3",
   "version": "3.12.7"
  }
 },
 "nbformat": 4,
 "nbformat_minor": 5
}
