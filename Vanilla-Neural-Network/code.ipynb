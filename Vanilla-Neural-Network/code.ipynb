{
 "cells": [
  {
   "cell_type": "markdown",
   "id": "dceaf71e-d2da-4fbf-bd40-4ab50ccd436f",
   "metadata": {},
   "source": [
    "# CSOC-IG 2025: Neural Network Project (Jupyter Notebook)\n",
    "\n",
    "**Objective:**  \n",
    "- Build and evaluate two models (vanilla NumPy and PyTorch) to predict patient no-shows.\n",
    "\n",
    "---\n",
    "\n",
    "## 1. Setup & Imports\n",
    "\n",
    "\n"
   ]
  },
  {
   "cell_type": "code",
   "execution_count": 61,
   "id": "6427c714-959c-4a7c-8f3e-c5ead01d5fc8",
   "metadata": {},
   "outputs": [],
   "source": [
    "# 1.1 For neural network from scratch \n",
    "import numpy as np\n",
    "import pandas as pd\n",
    "import matplotlib.pyplot as plt\n",
    "from sklearn.model_selection import train_test_split\n",
    "from sklearn.preprocessing import StandardScaler, LabelEncoder\n",
    "from sklearn.metrics import (\n",
    "    accuracy_score,\n",
    "    f1_score,\n",
    "    precision_recall_curve,\n",
    "    auc,\n",
    "    confusion_matrix,\n",
    "    precision_score,\n",
    "    recall_score,\n",
    ")\n",
    "\n",
    "# 1.2 For PyTorch\n",
    "import torch\n",
    "import torch.nn as nn\n",
    "import torch.optim as optim\n",
    "from torch.utils.data import TensorDataset, DataLoader"
   ]
  },
  {
   "cell_type": "markdown",
   "id": "bc26ee8a-ab35-43d8-9b91-410e8935cb04",
   "metadata": {},
   "source": [
    "## 2. Load & Explore Dataset"
   ]
  },
  {
   "cell_type": "code",
   "execution_count": 62,
   "id": "1fb90e6d-ccc1-4e8c-a358-b0cc8f0fd3ac",
   "metadata": {},
   "outputs": [
    {
     "name": "stdout",
     "output_type": "stream",
     "text": [
      "Shape: (110527, 14)\n",
      "Index(['PatientId', 'AppointmentID', 'Gender', 'ScheduledDay',\n",
      "       'AppointmentDay', 'Age', 'Neighbourhood', 'Scholarship', 'Hipertension',\n",
      "       'Diabetes', 'Alcoholism', 'Handcap', 'SMS_received', 'No-show'],\n",
      "      dtype='object')\n"
     ]
    }
   ],
   "source": [
    "df = pd.read_csv(\"KaggleV2-May-2016.csv\")\n",
    "\n",
    "\n",
    "print(\"Shape:\", df.shape)\n",
    "df.head()\n",
    "\n",
    "print(df.columns)\n"
   ]
  },
  {
   "cell_type": "markdown",
   "id": "f0c91b41-5638-491b-ac97-a7590e0e1714",
   "metadata": {},
   "source": [
    "## 3. Preprocessing"
   ]
  },
  {
   "cell_type": "code",
   "execution_count": 63,
   "id": "2524ffa1-b44c-4860-bd8d-563faf7d274e",
   "metadata": {},
   "outputs": [
    {
     "name": "stdout",
     "output_type": "stream",
     "text": [
      "X_train shape: (88420, 10)\n",
      "X_val   shape: (22106, 10)\n",
      "y_train shape: (88420,)\n",
      "y_val   shape: (22106,)\n"
     ]
    }
   ],
   "source": [
    "\n",
    "df.columns = df.columns.str.strip()\n",
    "\n",
    "#  Converting “No-show” to numeric target (No → 0, Yes → 1)\n",
    "df[\"No-show\"] = df[\"No-show\"].map({\"No\": 0, \"Yes\": 1})\n",
    "\n",
    "# Gender (F → 0, M → 1)\n",
    "df[\"Gender\"] = df[\"Gender\"].map({\"F\": 0, \"M\": 1})\n",
    "\n",
    "df[\"ScheduledDay\"]   = pd.to_datetime(df[\"ScheduledDay\"])\n",
    "df[\"AppointmentDay\"] = pd.to_datetime(df[\"AppointmentDay\"])\n",
    "df[\"waiting_days\"]   = (df[\"AppointmentDay\"] - df[\"ScheduledDay\"]).dt.days.clip(lower=0)\n",
    "\n",
    "le = LabelEncoder()\n",
    "df[\"Neighbourhood_enc\"] = le.fit_transform(df[\"Neighbourhood\"])\n",
    "\n",
    "# Dropping columns we no longer need\n",
    "df = df.drop(columns=[\n",
    "    \"PatientId\",   \n",
    "    \"AppointmentID\",  \n",
    "    \"Neighbourhood\"  \n",
    "])\n",
    "\n",
    "# Removing any rows where Age < 0\n",
    "df = df[df[\"Age\"] >= 0]\n",
    "\n",
    "features = [\n",
    "    \"Gender\", \"Age\", \"Scholarship\", \"Hipertension\", \"Diabetes\",\n",
    "    \"Alcoholism\", \"Handcap\", \"SMS_received\", \"waiting_days\", \"Neighbourhood_enc\"\n",
    "]\n",
    "X = df[features].values\n",
    "y = df[\"No-show\"].values\n",
    "\n",
    "X_train, X_val, y_train, y_val = train_test_split(\n",
    "    X, y,\n",
    "    test_size=0.20,\n",
    "    random_state=42,\n",
    "    stratify=y\n",
    ")\n",
    "\n",
    "\n",
    "scaler = StandardScaler()\n",
    "X_train = scaler.fit_transform(X_train)\n",
    "X_val   = scaler.transform(X_val)\n",
    "\n",
    "\n",
    "print(\"X_train shape:\", X_train.shape)\n",
    "print(\"X_val   shape:\", X_val.shape)\n",
    "print(\"y_train shape:\", y_train.shape)\n",
    "print(\"y_val   shape:\", y_val.shape)"
   ]
  },
  {
   "cell_type": "code",
   "execution_count": 64,
   "id": "0f135eac-2d4b-4c18-8a80-df72f7968afb",
   "metadata": {},
   "outputs": [
    {
     "data": {
      "text/html": [
       "<div>\n",
       "<style scoped>\n",
       "    .dataframe tbody tr th:only-of-type {\n",
       "        vertical-align: middle;\n",
       "    }\n",
       "\n",
       "    .dataframe tbody tr th {\n",
       "        vertical-align: top;\n",
       "    }\n",
       "\n",
       "    .dataframe thead th {\n",
       "        text-align: right;\n",
       "    }\n",
       "</style>\n",
       "<table border=\"1\" class=\"dataframe\">\n",
       "  <thead>\n",
       "    <tr style=\"text-align: right;\">\n",
       "      <th></th>\n",
       "      <th>Gender</th>\n",
       "      <th>ScheduledDay</th>\n",
       "      <th>AppointmentDay</th>\n",
       "      <th>Age</th>\n",
       "      <th>Scholarship</th>\n",
       "      <th>Hipertension</th>\n",
       "      <th>Diabetes</th>\n",
       "      <th>Alcoholism</th>\n",
       "      <th>Handcap</th>\n",
       "      <th>SMS_received</th>\n",
       "      <th>No-show</th>\n",
       "      <th>waiting_days</th>\n",
       "      <th>Neighbourhood_enc</th>\n",
       "    </tr>\n",
       "  </thead>\n",
       "  <tbody>\n",
       "    <tr>\n",
       "      <th>0</th>\n",
       "      <td>0</td>\n",
       "      <td>2016-04-29 18:38:08+00:00</td>\n",
       "      <td>2016-04-29 00:00:00+00:00</td>\n",
       "      <td>62</td>\n",
       "      <td>0</td>\n",
       "      <td>1</td>\n",
       "      <td>0</td>\n",
       "      <td>0</td>\n",
       "      <td>0</td>\n",
       "      <td>0</td>\n",
       "      <td>0</td>\n",
       "      <td>0</td>\n",
       "      <td>39</td>\n",
       "    </tr>\n",
       "    <tr>\n",
       "      <th>1</th>\n",
       "      <td>1</td>\n",
       "      <td>2016-04-29 16:08:27+00:00</td>\n",
       "      <td>2016-04-29 00:00:00+00:00</td>\n",
       "      <td>56</td>\n",
       "      <td>0</td>\n",
       "      <td>0</td>\n",
       "      <td>0</td>\n",
       "      <td>0</td>\n",
       "      <td>0</td>\n",
       "      <td>0</td>\n",
       "      <td>0</td>\n",
       "      <td>0</td>\n",
       "      <td>39</td>\n",
       "    </tr>\n",
       "    <tr>\n",
       "      <th>2</th>\n",
       "      <td>0</td>\n",
       "      <td>2016-04-29 16:19:04+00:00</td>\n",
       "      <td>2016-04-29 00:00:00+00:00</td>\n",
       "      <td>62</td>\n",
       "      <td>0</td>\n",
       "      <td>0</td>\n",
       "      <td>0</td>\n",
       "      <td>0</td>\n",
       "      <td>0</td>\n",
       "      <td>0</td>\n",
       "      <td>0</td>\n",
       "      <td>0</td>\n",
       "      <td>45</td>\n",
       "    </tr>\n",
       "    <tr>\n",
       "      <th>3</th>\n",
       "      <td>0</td>\n",
       "      <td>2016-04-29 17:29:31+00:00</td>\n",
       "      <td>2016-04-29 00:00:00+00:00</td>\n",
       "      <td>8</td>\n",
       "      <td>0</td>\n",
       "      <td>0</td>\n",
       "      <td>0</td>\n",
       "      <td>0</td>\n",
       "      <td>0</td>\n",
       "      <td>0</td>\n",
       "      <td>0</td>\n",
       "      <td>0</td>\n",
       "      <td>54</td>\n",
       "    </tr>\n",
       "    <tr>\n",
       "      <th>4</th>\n",
       "      <td>0</td>\n",
       "      <td>2016-04-29 16:07:23+00:00</td>\n",
       "      <td>2016-04-29 00:00:00+00:00</td>\n",
       "      <td>56</td>\n",
       "      <td>0</td>\n",
       "      <td>1</td>\n",
       "      <td>1</td>\n",
       "      <td>0</td>\n",
       "      <td>0</td>\n",
       "      <td>0</td>\n",
       "      <td>0</td>\n",
       "      <td>0</td>\n",
       "      <td>39</td>\n",
       "    </tr>\n",
       "  </tbody>\n",
       "</table>\n",
       "</div>"
      ],
      "text/plain": [
       "   Gender              ScheduledDay            AppointmentDay  Age  \\\n",
       "0       0 2016-04-29 18:38:08+00:00 2016-04-29 00:00:00+00:00   62   \n",
       "1       1 2016-04-29 16:08:27+00:00 2016-04-29 00:00:00+00:00   56   \n",
       "2       0 2016-04-29 16:19:04+00:00 2016-04-29 00:00:00+00:00   62   \n",
       "3       0 2016-04-29 17:29:31+00:00 2016-04-29 00:00:00+00:00    8   \n",
       "4       0 2016-04-29 16:07:23+00:00 2016-04-29 00:00:00+00:00   56   \n",
       "\n",
       "   Scholarship  Hipertension  Diabetes  Alcoholism  Handcap  SMS_received  \\\n",
       "0            0             1         0           0        0             0   \n",
       "1            0             0         0           0        0             0   \n",
       "2            0             0         0           0        0             0   \n",
       "3            0             0         0           0        0             0   \n",
       "4            0             1         1           0        0             0   \n",
       "\n",
       "   No-show  waiting_days  Neighbourhood_enc  \n",
       "0        0             0                 39  \n",
       "1        0             0                 39  \n",
       "2        0             0                 45  \n",
       "3        0             0                 54  \n",
       "4        0             0                 39  "
      ]
     },
     "execution_count": 64,
     "metadata": {},
     "output_type": "execute_result"
    }
   ],
   "source": [
    "df.head()"
   ]
  },
  {
   "cell_type": "markdown",
   "id": "ec755f3b-7f3b-4802-a4b4-af3b7075ac3b",
   "metadata": {},
   "source": [
    "## 4. Part 1: Neural Network from Scratch (NumPy)"
   ]
  },
  {
   "cell_type": "markdown",
   "id": "cfd72d8b-dc90-4ece-b720-1aa87abe3c17",
   "metadata": {},
   "source": [
    "### 4.1 Architecture & Hyperparameters"
   ]
  },
  {
   "cell_type": "code",
   "execution_count": 65,
   "id": "2e435a87-1342-4e22-afdb-d5b54ef51625",
   "metadata": {},
   "outputs": [],
   "source": [
    "# 4.1.1 Activation functions + derivatives\n",
    "\n",
    "def sigmoid(z):\n",
    "    return 1 / (1 + np.exp(-z))\n",
    "\n",
    "def sigmoid_derivative(a):\n",
    "    return a * (1 - a)\n",
    "\n",
    "def leaky_relu(z, alpha=0.01):\n",
    "    return np.where(z > 0, z, alpha * z)\n",
    "\n",
    "def leaky_relu_derivative(z, alpha=0.01):\n",
    "    return np.where(z > 0, 1, alpha)\n",
    "\n",
    "\n",
    "# 4.1.2 Initialize parameters\n",
    "\n",
    "def initialize_parameters(layer_dims):\n",
    "   \n",
    "    np.random.seed(42)\n",
    "    parameters = {}\n",
    "    for i in range(1, len(layer_dims)):\n",
    "        parameters[f\"W{i}\"] = np.random.randn(layer_dims[i], layer_dims[i-1]) * np.sqrt(1 / layer_dims[i-1])\n",
    "        parameters[f\"b{i}\"] = np.zeros((layer_dims[i], 1))\n",
    "    return parameters\n"
   ]
  },
  {
   "cell_type": "markdown",
   "id": "deaa5d7a-a9ea-4e6e-95c3-9d1e382f832f",
   "metadata": {},
   "source": [
    "### 4.2 Forward & Backward Propagation"
   ]
  },
  {
   "cell_type": "code",
   "execution_count": 66,
   "id": "87f49e07-d1e3-4105-a08d-c436054bbde1",
   "metadata": {},
   "outputs": [],
   "source": [
    "# 4.2.1 Forward propagation\n",
    "\n",
    "def forward_propagation(X, parameters):\n",
    "    caches = {}\n",
    "    # Layer 1\n",
    "    Z1 = parameters[\"W1\"].dot(X) + parameters[\"b1\"]\n",
    "    A1 = leaky_relu(Z1)\n",
    "    # Layer 2\n",
    "    Z2 = parameters[\"W2\"].dot(A1) + parameters[\"b2\"]\n",
    "    A2 = leaky_relu(Z2)\n",
    "    # Output layer\n",
    "    Z3 = parameters[\"W3\"].dot(A2) + parameters[\"b3\"]\n",
    "    A3 = sigmoid(Z3)\n",
    "\n",
    "    caches[\"Z1\"], caches[\"A1\"] = Z1, A1\n",
    "    caches[\"Z2\"], caches[\"A2\"] = Z2, A2\n",
    "    caches[\"Z3\"], caches[\"A3\"] = Z3, A3\n",
    "    return A3, caches\n",
    "\n",
    "# 4.2.2 Computing loss\n",
    "\n",
    "def compute_loss(A3, Y):\n",
    "    m = Y.shape[1]\n",
    "    eps = 1e-8\n",
    "    loss = -np.sum(Y * np.log(A3 + eps) + (1 - Y) * np.log(1 - A3 + eps)) / m\n",
    "    return loss\n",
    "\n",
    "# 4.2.3 Backward propagation\n",
    "\n",
    "def backward_propagation(X, Y, parameters, caches):\n",
    "    m = X.shape[1]\n",
    "    W1, W2, W3 = parameters[\"W1\"], parameters[\"W2\"], parameters[\"W3\"]\n",
    "    A1, A2, A3 = caches[\"A1\"], caches[\"A2\"], caches[\"A3\"]\n",
    "    Z1, Z2, Z3 = caches[\"Z1\"], caches[\"Z2\"], caches[\"Z3\"]\n",
    "\n",
    "    grads = {}\n",
    "\n",
    "    # Output layer gradients\n",
    "    dZ3 = A3 - Y\n",
    "    grads[\"dW3\"] = (1 / m) * dZ3.dot(A2.T)\n",
    "    grads[\"db3\"] = (1 / m) * np.sum(dZ3, axis=1, keepdims=True)\n",
    "\n",
    "    # Layer 2 gradients\n",
    "    dA2 = W3.T.dot(dZ3)\n",
    "    dZ2 = dA2 * leaky_relu_derivative(Z2)\n",
    "    grads[\"dW2\"] = (1 / m) * dZ2.dot(A1.T)\n",
    "    grads[\"db2\"] = (1 / m) * np.sum(dZ2, axis=1, keepdims=True)\n",
    "\n",
    "    # Layer 1 gradients\n",
    "    dA1 = W2.T.dot(dZ2)\n",
    "    dZ1 = dA1 * leaky_relu_derivative(Z1)\n",
    "    grads[\"dW1\"] = (1 / m) * dZ1.dot(X.T)\n",
    "    grads[\"db1\"] = (1 / m) * np.sum(dZ1, axis=1, keepdims=True)\n",
    "\n",
    "    return grads\n"
   ]
  },
  {
   "cell_type": "markdown",
   "id": "234c1f21-2b03-49f8-8256-87180f6497d1",
   "metadata": {},
   "source": [
    "### 4.3 Training Loop (NumPy)"
   ]
  },
  {
   "cell_type": "code",
   "execution_count": 67,
   "id": "75a878b0-fb62-42b0-9027-076489e0accf",
   "metadata": {},
   "outputs": [
    {
     "name": "stdout",
     "output_type": "stream",
     "text": [
      "Predicted no-shows (1s): 5711 out of 22106\n",
      "Predicted no-shows (1s): 6061 out of 22106\n",
      "Predicted no-shows (1s): 5422 out of 22106\n",
      "Predicted no-shows (1s): 5178 out of 22106\n",
      "Predicted no-shows (1s): 5783 out of 22106\n"
     ]
    },
    {
     "data": {
      "image/png": "[encoded data removed]",
      "text/plain": [
       "<Figure size 640x480 with 1 Axes>"
      ]
     },
     "metadata": {},
     "output_type": "display_data"
    }
   ],
   "source": [
    "# 4.3.1 Helper to update parameters\n",
    "\n",
    "def update_parameters(parameters, grads, learning_rate):\n",
    "    for i in [1, 2, 3]:\n",
    "        parameters[f\"W{i}\"] -= learning_rate * grads[f\"dW{i}\"]\n",
    "        parameters[f\"b{i}\"] -= learning_rate * grads[f\"db{i}\"]\n",
    "    return parameters\n",
    "\n",
    "# 4.3.2 Converting data to shapes (features, samples)\n",
    "X_train_T = X_train.T  # shape is (n_features, m_train)\n",
    "y_train_T = y_train.reshape(1, -1)\n",
    "\n",
    "X_val_T = X_val.T\n",
    "y_val_T = y_val.reshape(1, -1)\n",
    "\n",
    "# 4.3.3 Initializing this\n",
    "layers_dims = [X_train_T.shape[0], 16, 8, 1]\n",
    "parameters = initialize_parameters(layers_dims)\n",
    "\n",
    "# 4.3.4 Hyperparameters\n",
    "learning_rate = 0.01\n",
    "num_epochs = 50\n",
    "batch_size = 64\n",
    "m = X_train_T.shape[1]\n",
    "num_batches = m // batch_size\n",
    "\n",
    "# 4.3.5 Training\n",
    "losses = []\n",
    "for epoch in range(num_epochs):\n",
    "    permutation = np.random.permutation(m)\n",
    "    X_shuffled = X_train_T[:, permutation]\n",
    "    Y_shuffled = y_train_T[:, permutation]\n",
    "\n",
    "    epoch_loss = 0\n",
    "    for b in range(num_batches):\n",
    "        start = b * batch_size\n",
    "        end = start + batch_size\n",
    "        X_batch = X_shuffled[:, start:end]\n",
    "        Y_batch = Y_shuffled[:, start:end]\n",
    "\n",
    "        # Forward\n",
    "        A3, caches = forward_propagation(X_batch, parameters)\n",
    "\n",
    "        # Computing loss\n",
    "        batch_loss = compute_loss(A3, Y_batch)\n",
    "        epoch_loss += batch_loss\n",
    "\n",
    "        # Backward\n",
    "        grads = backward_propagation(X_batch, Y_batch, parameters, caches)\n",
    "\n",
    "        # Update\n",
    "        parameters = update_parameters(parameters, grads, learning_rate)\n",
    "\n",
    "    losses.append(epoch_loss / num_batches)\n",
    "    if (epoch + 1) % 10 == 0:\n",
    "        pred_sample, _ = predict_numpy(X_val_T, parameters, threshold=0.3)\n",
    "        print(f\"Predicted no-shows (1s): {np.sum(pred_sample)} out of {len(pred_sample)}\")\n",
    "\n",
    "\n",
    "# 4.3.6 Plot \n",
    "plt.plot(range(1, num_epochs+1), losses)\n",
    "plt.xlabel(\"Epoch\")\n",
    "plt.ylabel(\"Average Batch Loss\")\n",
    "plt.title(\"Vanilla NN Training Loss\")\n",
    "plt.show()\n"
   ]
  },
  {
   "cell_type": "markdown",
   "id": "cbc0aa92-eef1-4292-b905-25d440a50213",
   "metadata": {},
   "source": [
    "### 4.4 Evaluation (NumPy Model)"
   ]
  },
  {
   "cell_type": "code",
   "execution_count": 68,
   "id": "fa881cfe-26b5-4a13-8579-e612a10fac5f",
   "metadata": {},
   "outputs": [
    {
     "name": "stdout",
     "output_type": "stream",
     "text": [
      "NumPy Model — Accuracy: 0.7213878584999548\n",
      "NumPy Model — F1 Score: 0.398946032985264\n",
      "NumPy Model — PR-AUC: 0.3460463729161636\n",
      "NumPy Confusion Matrix:\n",
      " [[13903  3739]\n",
      " [ 2420  2044]]\n"
     ]
    }
   ],
   "source": [
    "# 4.4.1 Predict function\n",
    "\n",
    "def predict_numpy(X, parameters, threshold=0.5):\n",
    "    A3, _ = forward_propagation(X, parameters)\n",
    "    preds = (A3 >= threshold).astype(int)\n",
    "    return preds.flatten(), A3.flatten()\n",
    "\n",
    "# 4.4.2 On Validation Set\n",
    "y_pred_val, y_prob_val = predict_numpy(X_val_T, parameters, threshold=0.3)\n",
    "acc_np = accuracy_score(y_val, y_pred_val)\n",
    "f1_np = f1_score(y_val, y_pred_val)\n",
    "precision_np, recall_np, _ = precision_recall_curve(y_val, y_prob_val)\n",
    "pr_auc_np = auc(recall_np, precision_np)\n",
    "cm_np = confusion_matrix(y_val, y_pred_val)\n",
    "\n",
    "print(\"NumPy Model — Accuracy:\", acc_np)\n",
    "print(\"NumPy Model — F1 Score:\", f1_np)\n",
    "print(\"NumPy Model — PR-AUC:\", pr_auc_np)\n",
    "print(\"NumPy Confusion Matrix:\\n\", cm_np)\n"
   ]
  },
  {
   "cell_type": "markdown",
   "id": "17a4c25d-bc5e-4cc4-8c49-0c09b2bb87b3",
   "metadata": {},
   "source": [
    "## 5. Part 2: PyTorch Implementation"
   ]
  },
  {
   "cell_type": "markdown",
   "id": "2059f07b-c63b-4f4f-bc14-5554012701bb",
   "metadata": {},
   "source": [
    "### 5.1 Creating Torch Dataset & DataLoader"
   ]
  },
  {
   "cell_type": "code",
   "execution_count": 69,
   "id": "1efee341-52e3-4913-9380-1e3108232acf",
   "metadata": {},
   "outputs": [],
   "source": [
    "# 5.1.1 Converting to Torch Tensors\n",
    "X_train_t = torch.tensor(X_train, dtype=torch.float32)\n",
    "y_train_t = torch.tensor(y_train.reshape(-1, 1), dtype=torch.float32)\n",
    "X_val_t = torch.tensor(X_val, dtype=torch.float32)\n",
    "y_val_t = torch.tensor(y_val.reshape(-1, 1), dtype=torch.float32)\n",
    "\n",
    "# 5.1.2 Dataset & DataLoader\n",
    "train_dataset = TensorDataset(X_train_t, y_train_t)\n",
    "val_dataset = TensorDataset(X_val_t, y_val_t)\n",
    "\n",
    "batch_size = 64\n",
    "train_loader = DataLoader(train_dataset, batch_size=batch_size, shuffle=True)\n",
    "val_loader = DataLoader(val_dataset, batch_size=batch_size)\n"
   ]
  },
  {
   "cell_type": "markdown",
   "id": "aeb7c46d-249c-4743-b110-7fe0ce0cccec",
   "metadata": {},
   "source": [
    "### 5.2 Define PyTorch Model"
   ]
  },
  {
   "cell_type": "code",
   "execution_count": 71,
   "id": "2134c71b-b6a0-4439-8fdc-e87249915eb7",
   "metadata": {},
   "outputs": [],
   "source": [
    "class SimpleNN(nn.Module):\n",
    "    def __init__(self, input_dim):\n",
    "        super(SimpleNN, self).__init__()\n",
    "        self.model = nn.Sequential(\n",
    "            nn.Linear(input_dim, 16),\n",
    "            nn.ReLU(),\n",
    "            nn.Linear(16, 8),\n",
    "            nn.ReLU(),\n",
    "            nn.Linear(8, 1)\n",
    "        )\n",
    "\n",
    "    def forward(self, x):\n",
    "        return self.model(x)\n",
    "\n",
    "\n",
    "# Instantiation\n",
    "input_dim = X_train.shape[1] \n",
    "model = SimpleNN(input_dim)\n"
   ]
  },
  {
   "cell_type": "markdown",
   "id": "cbfb8a7e-3203-4cc3-ac79-8873332aebfd",
   "metadata": {},
   "source": [
    "### 5.3 Training Loop (PyTorch)"
   ]
  },
  {
   "cell_type": "code",
   "execution_count": 72,
   "id": "1c0b4995-e5b7-4736-983f-a03d93dc9c77",
   "metadata": {},
   "outputs": [
    {
     "name": "stdout",
     "output_type": "stream",
     "text": [
      "Using pos_weight = 3.95\n",
      "Epoch 10/50 | Loss: 0.9901\n",
      "Epoch 20/50 | Loss: 0.9850\n",
      "Epoch 30/50 | Loss: 0.9817\n",
      "Epoch 40/50 | Loss: 0.9834\n",
      "Epoch 50/50 | Loss: 0.9826\n"
     ]
    },
    {
     "data": {
      "image/png": "[encoded data removed]",
      "text/plain": [
       "<Figure size 640x480 with 1 Axes>"
      ]
     },
     "metadata": {},
     "output_type": "display_data"
    }
   ],
   "source": [
    "# Counting positives and negatives\n",
    "num_pos = y_train.sum()\n",
    "num_neg = len(y_train) - num_pos\n",
    "pos_weight_value = num_neg / num_pos\n",
    "pos_weight = torch.tensor([pos_weight_value], dtype=torch.float32)\n",
    "\n",
    "criterion = nn.BCEWithLogitsLoss(pos_weight=pos_weight)\n",
    "optimizer = optim.Adam(model.parameters(), lr=0.01)\n",
    "\n",
    "print(f\"Using pos_weight = {pos_weight.item():.2f}\")\n",
    "\n",
    "num_epochs = 50\n",
    "losses_torch = []\n",
    "\n",
    "# 5.3.2 Training\n",
    "for epoch in range(num_epochs):\n",
    "    model.train()\n",
    "    running_loss = 0.0\n",
    "    for X_batch, y_batch in train_loader:\n",
    "        optimizer.zero_grad()\n",
    "        outputs = model(X_batch)\n",
    "        loss = criterion(outputs, y_batch)\n",
    "        loss.backward()\n",
    "        optimizer.step()\n",
    "        running_loss += loss.item() * X_batch.size(0)\n",
    "    \n",
    "    epoch_loss = running_loss / len(train_dataset)\n",
    "    losses_torch.append(epoch_loss)\n",
    "    if (epoch + 1) % 10 == 0:\n",
    "        print(f\"Epoch {epoch+1}/{num_epochs} | Loss: {epoch_loss:.4f}\")\n",
    "\n",
    "# 5.3.3 Plot\n",
    "plt.plot(range(1, num_epochs+1), losses_torch)\n",
    "plt.xlabel(\"Epoch\")\n",
    "plt.ylabel(\"Training Loss\")\n",
    "plt.title(\"PyTorch NN Training Loss\")\n",
    "plt.show()\n"
   ]
  },
  {
   "cell_type": "markdown",
   "id": "9754894e-8691-4fca-8967-068d6abdc4c4",
   "metadata": {},
   "source": [
    "### 5.4 Evaluation (PyTorch Model)"
   ]
  },
  {
   "cell_type": "code",
   "execution_count": 73,
   "id": "7f0128de-042a-4e46-9575-50b238304727",
   "metadata": {},
   "outputs": [
    {
     "name": "stdout",
     "output_type": "stream",
     "text": [
      "PyTorch Model — Accuracy: 0.5114448566000181\n",
      "PyTorch Model — F1 Score: 0.42638623326959846\n",
      "PyTorch Model — PR-AUC: 0.3494199114590649\n",
      "PyTorch Confusion Matrix:\n",
      " [[ 7292 10350]\n",
      " [  450  4014]]\n"
     ]
    }
   ],
   "source": [
    "model.eval()\n",
    "all_probs = []\n",
    "all_preds = []\n",
    "all_labels = []\n",
    "\n",
    "threshold = 0.3 \n",
    "\n",
    "with torch.no_grad():\n",
    "    for X_batch, y_batch in val_loader:\n",
    "        outputs = model(X_batch).flatten()\n",
    "        probs = torch.sigmoid(outputs).tolist() \n",
    "\n",
    "        preds = (torch.tensor(probs) >= threshold).int().tolist()\n",
    "\n",
    "\n",
    "        all_probs.extend(probs)\n",
    "        all_preds.extend(preds)\n",
    "        all_labels.extend(y_batch.flatten().int().tolist())\n",
    "\n",
    "# Computing evaluation metrics\n",
    "acc = accuracy_score(all_labels, all_preds)\n",
    "f1 = f1_score(all_labels, all_preds)\n",
    "precision, recall, _ = precision_recall_curve(all_labels, all_probs)\n",
    "pr_auc = auc(recall, precision)\n",
    "cm = confusion_matrix(all_labels, all_preds)\n",
    "\n",
    "print(\"PyTorch Model — Accuracy:\", acc)\n",
    "print(\"PyTorch Model — F1 Score:\", f1)\n",
    "print(\"PyTorch Model — PR-AUC:\", pr_auc)\n",
    "print(\"PyTorch Confusion Matrix:\\n\", cm)"
   ]
  },
  {
   "cell_type": "markdown",
   "id": "7f9274d6-06cc-4020-a4be-7e8e1d655184",
   "metadata": {},
   "source": [
    "### 6. Part 3: Comparison & Discussion"
   ]
  },
  {
   "cell_type": "code",
   "execution_count": 76,
   "id": "f4cc6a3c-80ac-477c-99fd-bf7a7edbe0d5",
   "metadata": {},
   "outputs": [
    {
     "data": {
      "text/html": [
       "<div>\n",
       "<style scoped>\n",
       "    .dataframe tbody tr th:only-of-type {\n",
       "        vertical-align: middle;\n",
       "    }\n",
       "\n",
       "    .dataframe tbody tr th {\n",
       "        vertical-align: top;\n",
       "    }\n",
       "\n",
       "    .dataframe thead th {\n",
       "        text-align: right;\n",
       "    }\n",
       "</style>\n",
       "<table border=\"1\" class=\"dataframe\">\n",
       "  <thead>\n",
       "    <tr style=\"text-align: right;\">\n",
       "      <th></th>\n",
       "      <th>Model</th>\n",
       "      <th>Accuracy</th>\n",
       "      <th>F1 Score</th>\n",
       "      <th>PR-AUC</th>\n",
       "    </tr>\n",
       "  </thead>\n",
       "  <tbody>\n",
       "    <tr>\n",
       "      <th>0</th>\n",
       "      <td>NumPy NN</td>\n",
       "      <td>0.721388</td>\n",
       "      <td>0.398946</td>\n",
       "      <td>0.346046</td>\n",
       "    </tr>\n",
       "    <tr>\n",
       "      <th>1</th>\n",
       "      <td>PyTorch NN</td>\n",
       "      <td>0.511445</td>\n",
       "      <td>0.426386</td>\n",
       "      <td>0.349420</td>\n",
       "    </tr>\n",
       "  </tbody>\n",
       "</table>\n",
       "</div>"
      ],
      "text/plain": [
       "        Model  Accuracy  F1 Score    PR-AUC\n",
       "0    NumPy NN  0.721388  0.398946  0.346046\n",
       "1  PyTorch NN  0.511445  0.426386  0.349420"
      ]
     },
     "execution_count": 76,
     "metadata": {},
     "output_type": "execute_result"
    }
   ],
   "source": [
    "\n",
    "metrics_df = pd.DataFrame({\n",
    "    \"Model\": [\"NumPy NN\", \"PyTorch NN\"],\n",
    "    \"Accuracy\": [acc_np, acc],\n",
    "    \"F1 Score\": [f1_np, f1],\n",
    "    \"PR-AUC\": [pr_auc_np, pr_auc]\n",
    "})\n",
    "metrics_df\n"
   ]
  },
  {
   "cell_type": "code",
   "execution_count": null,
   "id": "521006c3-5525-4ee0-bd3f-d14a68f8ae37",
   "metadata": {},
   "outputs": [],
   "source": []
  }
 ],
 "metadata": {
  "kernelspec": {
   "display_name": "Python [conda env:base] *",
   "language": "python",
   "name": "conda-base-py"
  },
  "language_info": {
   "codemirror_mode": {
    "name": "ipython",
    "version": 3
   },
   "file_extension": ".py",
   "mimetype": "text/x-python",
   "name": "python",
   "nbconvert_exporter": "python",
   "pygments_lexer": "ipython3",
   "version": "3.12.7"
  }
 },
 "nbformat": 4,
 "nbformat_minor": 5
}
